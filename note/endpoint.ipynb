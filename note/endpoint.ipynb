{
 "cells": [
  {
   "cell_type": "code",
   "execution_count": 92,
   "id": "990163d2-0aef-4bbb-b7a6-692c04878a9e",
   "metadata": {},
   "outputs": [],
   "source": [
    "import pandas as pd\n",
    "import requests\n",
    "\n",
    "EP = \"https://raw.githubusercontent.com/lucas-hub12/nextjs-fastapi-starter/refs/heads/main/endpoints.json\""
   ]
  },
  {
   "cell_type": "code",
   "execution_count": 93,
   "id": "d069040a-6b62-4df0-a382-13c86ef90fdb",
   "metadata": {},
   "outputs": [],
   "source": [
    "res = requests.get(EP)"
   ]
  },
  {
   "cell_type": "code",
   "execution_count": 3,
   "id": "a17b8f9d-a12a-4a82-ac35-7c4742d6af1d",
   "metadata": {},
   "outputs": [
    {
     "data": {
      "text/plain": [
       "200"
      ]
     },
     "execution_count": 3,
     "metadata": {},
     "output_type": "execute_result"
    }
   ],
   "source": [
    "res.status_code"
   ]
  },
  {
   "cell_type": "code",
   "execution_count": 4,
   "id": "3e3503a8-23bb-4e26-9ae1-e3340eda4f99",
   "metadata": {},
   "outputs": [
    {
     "data": {
      "text/plain": [
       "'utf-8'"
      ]
     },
     "execution_count": 4,
     "metadata": {},
     "output_type": "execute_result"
    }
   ],
   "source": [
    "res.encoding"
   ]
  },
  {
   "cell_type": "code",
   "execution_count": 5,
   "id": "82aeadd5-bb62-48ee-8ba9-6efa99c8b99a",
   "metadata": {},
   "outputs": [
    {
     "data": {
      "text/plain": [
       "'{\\n    \"endpoints\": [\\n      {\"name\": \"TOM\",\"url\": \"https://ac.sunsin.shop/api/py/select_all\"},\\n      {\"name\": \"jiwon\",\"url\": \"https://agecal.wodan10.shop/api/py/select_all\"},\\n      {\"name\": \"heejin\",\"url\": \"https://age.journeyjean.shop/api/py/select_all\"}, \\n      {\"name\": \"hyun\",\"url\": \"https://agecalculator.calcalhan.store/api/py/select_all\"},\\n      {\"name\": \"cho\",\"url\": \"https://nextjs-fastapi-starter-5j3bemub7-chominkyus-projects.vercel.app/api/py/select_all\"},\\n      {\"name\": \"jacob\",\"url\": \"https://jacob0503.vercel.app/api/py/select_table\"},\\n      {\"name\": \"nuni\",\"url\": \"https://ac.nunininu.shop/api/py/select_all\"},\\n      {\"name\": \"lucas\",\"url\": \"https://ac.lucas12.store/api/py/select_all\"},\\n      {\"name\": \"SEO\",\"url\":\"https://ac.seo-sigma.shop/api/py/select_all\"},\\n      {\"name\": \"JERRY\", \"url\": \"https://jooon.vercel.app/api/py/select_all\"}\\n    ]\\n}\\n'"
      ]
     },
     "execution_count": 5,
     "metadata": {},
     "output_type": "execute_result"
    }
   ],
   "source": [
    "res.text"
   ]
  },
  {
   "cell_type": "code",
   "execution_count": 94,
   "id": "e45771f9-4e4f-4c2a-b26f-bb6582c31683",
   "metadata": {},
   "outputs": [],
   "source": [
    "data = res.json()"
   ]
  },
  {
   "cell_type": "code",
   "execution_count": 95,
   "id": "f91c55f2-142b-4f70-99d3-ed0ecc85907b",
   "metadata": {},
   "outputs": [
    {
     "data": {
      "text/plain": [
       "dict"
      ]
     },
     "execution_count": 95,
     "metadata": {},
     "output_type": "execute_result"
    }
   ],
   "source": [
    "type(data)"
   ]
  },
  {
   "cell_type": "code",
   "execution_count": 96,
   "id": "901de6a1-5db4-4744-a4f5-7c4399c3704e",
   "metadata": {},
   "outputs": [
    {
     "data": {
      "text/plain": [
       "list"
      ]
     },
     "execution_count": 96,
     "metadata": {},
     "output_type": "execute_result"
    }
   ],
   "source": [
    "endpoints = data['endpoints']\n",
    "type(endpoints)"
   ]
  },
  {
   "cell_type": "code",
   "execution_count": 97,
   "id": "49caa432-855b-4cb1-a9e7-6aa9e4d420b5",
   "metadata": {},
   "outputs": [
    {
     "name": "stdout",
     "output_type": "stream",
     "text": [
      "TOM,https://ac.sunsin.shop/api/py/select_all\n",
      "jiwon,https://agecal.wodan10.shop/api/py/select_all\n",
      "heejin,https://age.journeyjean.shop/api/py/select_all\n",
      "hyun,https://agecalculator.calcalhan.store/api/py/select_all\n",
      "cho,https://nextjs-fastapi-starter-5j3bemub7-chominkyus-projects.vercel.app/api/py/select_all\n",
      "jacob,https://jacob0503.vercel.app/api/py/select_table\n",
      "nuni,https://ac.nunininu.shop/api/py/select_all\n",
      "lucas,https://ac.lucas12.store/api/py/select_all\n",
      "SEO,https://ac.seo-sigma.shop/api/py/select_all\n",
      "JERRY,https://jooon.vercel.app/api/py/select_all\n"
     ]
    }
   ],
   "source": [
    "for p in endpoints:\n",
    "    print(f'{p[\"name\"]},{p[\"url\"]}')"
   ]
  },
  {
   "cell_type": "code",
   "execution_count": 10,
   "id": "36829d87-af4f-4c0b-a57f-68f2cea86137",
   "metadata": {},
   "outputs": [
    {
     "data": {
      "text/html": [
       "<div>\n",
       "<style scoped>\n",
       "    .dataframe tbody tr th:only-of-type {\n",
       "        vertical-align: middle;\n",
       "    }\n",
       "\n",
       "    .dataframe tbody tr th {\n",
       "        vertical-align: top;\n",
       "    }\n",
       "\n",
       "    .dataframe thead th {\n",
       "        text-align: right;\n",
       "    }\n",
       "</style>\n",
       "<table border=\"1\" class=\"dataframe\">\n",
       "  <thead>\n",
       "    <tr style=\"text-align: right;\">\n",
       "      <th></th>\n",
       "      <th>menu_name</th>\n",
       "      <th>name</th>\n",
       "      <th>dt</th>\n",
       "    </tr>\n",
       "  </thead>\n",
       "  <tbody>\n",
       "    <tr>\n",
       "      <th>0</th>\n",
       "      <td>설렁탕</td>\n",
       "      <td>TOM</td>\n",
       "      <td>2025-02-07</td>\n",
       "    </tr>\n",
       "  </tbody>\n",
       "</table>\n",
       "</div>"
      ],
      "text/plain": [
       "  menu_name name          dt\n",
       "0       설렁탕  TOM  2025-02-07"
      ]
     },
     "execution_count": 10,
     "metadata": {},
     "output_type": "execute_result"
    }
   ],
   "source": [
    "res = requests.get(\"https://ac.sunsin.shop/api/py/select_all\")\n",
    "# res.status_code\n",
    "data = res.json()\n",
    "df_heejin = pd.DataFrame(data)\n",
    "df_heejin.head(1)"
   ]
  },
  {
   "cell_type": "code",
   "execution_count": 11,
   "id": "fcc48a62-8829-4313-85b9-7836671db738",
   "metadata": {},
   "outputs": [
    {
     "data": {
      "text/html": [
       "<div>\n",
       "<style scoped>\n",
       "    .dataframe tbody tr th:only-of-type {\n",
       "        vertical-align: middle;\n",
       "    }\n",
       "\n",
       "    .dataframe tbody tr th {\n",
       "        vertical-align: top;\n",
       "    }\n",
       "\n",
       "    .dataframe thead th {\n",
       "        text-align: right;\n",
       "    }\n",
       "</style>\n",
       "<table border=\"1\" class=\"dataframe\">\n",
       "  <thead>\n",
       "    <tr style=\"text-align: right;\">\n",
       "      <th></th>\n",
       "      <th>menu_name</th>\n",
       "      <th>name</th>\n",
       "      <th>dt</th>\n",
       "    </tr>\n",
       "  </thead>\n",
       "  <tbody>\n",
       "    <tr>\n",
       "      <th>0</th>\n",
       "      <td>순대국</td>\n",
       "      <td>lucas</td>\n",
       "      <td>2025-02-11</td>\n",
       "    </tr>\n",
       "  </tbody>\n",
       "</table>\n",
       "</div>"
      ],
      "text/plain": [
       "  menu_name   name          dt\n",
       "0       순대국  lucas  2025-02-11"
      ]
     },
     "execution_count": 11,
     "metadata": {},
     "output_type": "execute_result"
    }
   ],
   "source": [
    "res = requests.get(\"https://ac.lucas12.store/api/py/select_all\")\n",
    "# res.status_code\n",
    "data = res.json()\n",
    "df_lucas = pd.DataFrame(data)\n",
    "df_lucas.head(1)"
   ]
  },
  {
   "cell_type": "code",
   "execution_count": 12,
   "id": "1c2004fe-8d6b-4f35-a9cd-d9c9eacfbb28",
   "metadata": {},
   "outputs": [
    {
     "data": {
      "text/html": [
       "<div>\n",
       "<style scoped>\n",
       "    .dataframe tbody tr th:only-of-type {\n",
       "        vertical-align: middle;\n",
       "    }\n",
       "\n",
       "    .dataframe tbody tr th {\n",
       "        vertical-align: top;\n",
       "    }\n",
       "\n",
       "    .dataframe thead th {\n",
       "        text-align: right;\n",
       "    }\n",
       "</style>\n",
       "<table border=\"1\" class=\"dataframe\">\n",
       "  <thead>\n",
       "    <tr style=\"text-align: right;\">\n",
       "      <th></th>\n",
       "      <th>menu_name</th>\n",
       "      <th>name</th>\n",
       "      <th>dt</th>\n",
       "    </tr>\n",
       "  </thead>\n",
       "  <tbody>\n",
       "    <tr>\n",
       "      <th>0</th>\n",
       "      <td>컵라면</td>\n",
       "      <td>TOM</td>\n",
       "      <td>2025-02-10</td>\n",
       "    </tr>\n",
       "  </tbody>\n",
       "</table>\n",
       "</div>"
      ],
      "text/plain": [
       "  menu_name name          dt\n",
       "0       컵라면  TOM  2025-02-10"
      ]
     },
     "execution_count": 12,
     "metadata": {},
     "output_type": "execute_result"
    }
   ],
   "source": [
    "res = requests.get(\"https://age.journeyjean.shop/api/py/select_all\")\n",
    "# res.status_code\n",
    "data = res.json()\n",
    "df_jacob = pd.DataFrame(data)\n",
    "df_jacob.head(1)"
   ]
  },
  {
   "cell_type": "code",
   "execution_count": 18,
   "id": "814dd750-c5c5-4091-80b4-c91047c408ac",
   "metadata": {},
   "outputs": [
    {
     "data": {
      "text/html": [
       "<div>\n",
       "<style scoped>\n",
       "    .dataframe tbody tr th:only-of-type {\n",
       "        vertical-align: middle;\n",
       "    }\n",
       "\n",
       "    .dataframe tbody tr th {\n",
       "        vertical-align: top;\n",
       "    }\n",
       "\n",
       "    .dataframe thead th {\n",
       "        text-align: right;\n",
       "    }\n",
       "</style>\n",
       "<table border=\"1\" class=\"dataframe\">\n",
       "  <thead>\n",
       "    <tr style=\"text-align: right;\">\n",
       "      <th></th>\n",
       "      <th>menu_name</th>\n",
       "      <th>name</th>\n",
       "      <th>dt</th>\n",
       "    </tr>\n",
       "  </thead>\n",
       "  <tbody>\n",
       "    <tr>\n",
       "      <th>11</th>\n",
       "      <td>볶음밥</td>\n",
       "      <td>lucas</td>\n",
       "      <td>2025-01-07</td>\n",
       "    </tr>\n",
       "    <tr>\n",
       "      <th>12</th>\n",
       "      <td>일반 짬뽕 보통</td>\n",
       "      <td>nuni</td>\n",
       "      <td>2025-01-07</td>\n",
       "    </tr>\n",
       "    <tr>\n",
       "      <th>15</th>\n",
       "      <td>주먹밥</td>\n",
       "      <td>JERRY</td>\n",
       "      <td>2025-01-08</td>\n",
       "    </tr>\n",
       "    <tr>\n",
       "      <th>21</th>\n",
       "      <td>규동</td>\n",
       "      <td>lucas</td>\n",
       "      <td>2025-01-08</td>\n",
       "    </tr>\n",
       "    <tr>\n",
       "      <th>22</th>\n",
       "      <td>무공 옛날돈가스</td>\n",
       "      <td>nuni</td>\n",
       "      <td>2025-01-08</td>\n",
       "    </tr>\n",
       "    <tr>\n",
       "      <th>24</th>\n",
       "      <td>얼큰 순대국밥</td>\n",
       "      <td>hyun</td>\n",
       "      <td>2025-01-09</td>\n",
       "    </tr>\n",
       "    <tr>\n",
       "      <th>25</th>\n",
       "      <td>얼큰 순대국밥</td>\n",
       "      <td>JERRY</td>\n",
       "      <td>2025-01-09</td>\n",
       "    </tr>\n",
       "    <tr>\n",
       "      <th>31</th>\n",
       "      <td>한우 곰탕</td>\n",
       "      <td>lucas</td>\n",
       "      <td>2025-01-09</td>\n",
       "    </tr>\n",
       "    <tr>\n",
       "      <th>32</th>\n",
       "      <td>얼큰 설렁탕</td>\n",
       "      <td>nuni</td>\n",
       "      <td>2025-01-09</td>\n",
       "    </tr>\n",
       "    <tr>\n",
       "      <th>35</th>\n",
       "      <td>불닭로제찜닭</td>\n",
       "      <td>JERRY</td>\n",
       "      <td>2025-01-10</td>\n",
       "    </tr>\n",
       "    <tr>\n",
       "      <th>39</th>\n",
       "      <td>부대찌개</td>\n",
       "      <td>heejin</td>\n",
       "      <td>2025-01-10</td>\n",
       "    </tr>\n",
       "    <tr>\n",
       "      <th>41</th>\n",
       "      <td>부대찌개</td>\n",
       "      <td>lucas</td>\n",
       "      <td>2025-01-10</td>\n",
       "    </tr>\n",
       "    <tr>\n",
       "      <th>42</th>\n",
       "      <td>부대찌개</td>\n",
       "      <td>nuni</td>\n",
       "      <td>2025-01-10</td>\n",
       "    </tr>\n",
       "    <tr>\n",
       "      <th>44</th>\n",
       "      <td>한솥</td>\n",
       "      <td>hyun</td>\n",
       "      <td>2025-01-13</td>\n",
       "    </tr>\n",
       "    <tr>\n",
       "      <th>45</th>\n",
       "      <td>한솥</td>\n",
       "      <td>JERRY</td>\n",
       "      <td>2025-01-13</td>\n",
       "    </tr>\n",
       "    <tr>\n",
       "      <th>50</th>\n",
       "      <td>꽃게 된장찌개</td>\n",
       "      <td>lucas</td>\n",
       "      <td>2025-01-13</td>\n",
       "    </tr>\n",
       "    <tr>\n",
       "      <th>51</th>\n",
       "      <td>고기김치찌개,라면세트</td>\n",
       "      <td>nuni</td>\n",
       "      <td>2025-01-13</td>\n",
       "    </tr>\n",
       "    <tr>\n",
       "      <th>59</th>\n",
       "      <td>한솥</td>\n",
       "      <td>lucas</td>\n",
       "      <td>2025-01-14</td>\n",
       "    </tr>\n",
       "    <tr>\n",
       "      <th>60</th>\n",
       "      <td>한솥</td>\n",
       "      <td>nuni</td>\n",
       "      <td>2025-01-14</td>\n",
       "    </tr>\n",
       "    <tr>\n",
       "      <th>68</th>\n",
       "      <td>생고기김치찌개,라면사리</td>\n",
       "      <td>lucas</td>\n",
       "      <td>2025-01-15</td>\n",
       "    </tr>\n",
       "    <tr>\n",
       "      <th>69</th>\n",
       "      <td>순두부찌개</td>\n",
       "      <td>nuni</td>\n",
       "      <td>2025-01-15</td>\n",
       "    </tr>\n",
       "    <tr>\n",
       "      <th>78</th>\n",
       "      <td>비빔국수 , 반 계란 김밥</td>\n",
       "      <td>lucas</td>\n",
       "      <td>2025-01-16</td>\n",
       "    </tr>\n",
       "    <tr>\n",
       "      <th>79</th>\n",
       "      <td>반반국수(비빔&amp;잔치)</td>\n",
       "      <td>nuni</td>\n",
       "      <td>2025-01-16</td>\n",
       "    </tr>\n",
       "    <tr>\n",
       "      <th>87</th>\n",
       "      <td>안심 돈카츠</td>\n",
       "      <td>lucas</td>\n",
       "      <td>2025-01-17</td>\n",
       "    </tr>\n",
       "    <tr>\n",
       "      <th>88</th>\n",
       "      <td>카레 돈카츠 세트</td>\n",
       "      <td>nuni</td>\n",
       "      <td>2025-01-17</td>\n",
       "    </tr>\n",
       "    <tr>\n",
       "      <th>97</th>\n",
       "      <td>낙지 볶음</td>\n",
       "      <td>lucas</td>\n",
       "      <td>2025-01-20</td>\n",
       "    </tr>\n",
       "    <tr>\n",
       "      <th>98</th>\n",
       "      <td>제육볶음</td>\n",
       "      <td>nuni</td>\n",
       "      <td>2025-01-20</td>\n",
       "    </tr>\n",
       "    <tr>\n",
       "      <th>101</th>\n",
       "      <td>고등어구이,제육볶음</td>\n",
       "      <td>JERRY</td>\n",
       "      <td>2025-01-21</td>\n",
       "    </tr>\n",
       "    <tr>\n",
       "      <th>102</th>\n",
       "      <td>고등어구이,제육볶음</td>\n",
       "      <td>SEO</td>\n",
       "      <td>2025-01-21</td>\n",
       "    </tr>\n",
       "    <tr>\n",
       "      <th>105</th>\n",
       "      <td>얼큰미나리 샤브세트</td>\n",
       "      <td>heejin</td>\n",
       "      <td>2025-01-21</td>\n",
       "    </tr>\n",
       "    <tr>\n",
       "      <th>107</th>\n",
       "      <td>얼큰미나리 샤브세트</td>\n",
       "      <td>lucas</td>\n",
       "      <td>2025-01-21</td>\n",
       "    </tr>\n",
       "    <tr>\n",
       "      <th>115</th>\n",
       "      <td>햄 김치찌개</td>\n",
       "      <td>lucas</td>\n",
       "      <td>2025-01-22</td>\n",
       "    </tr>\n",
       "    <tr>\n",
       "      <th>116</th>\n",
       "      <td>순두부 찌개</td>\n",
       "      <td>nuni</td>\n",
       "      <td>2025-01-22</td>\n",
       "    </tr>\n",
       "    <tr>\n",
       "      <th>125</th>\n",
       "      <td>육회비빔밥</td>\n",
       "      <td>lucas</td>\n",
       "      <td>2025-01-23</td>\n",
       "    </tr>\n",
       "    <tr>\n",
       "      <th>126</th>\n",
       "      <td>육회비빔밥</td>\n",
       "      <td>nuni</td>\n",
       "      <td>2025-01-23</td>\n",
       "    </tr>\n",
       "    <tr>\n",
       "      <th>134</th>\n",
       "      <td>콩나물해장국</td>\n",
       "      <td>lucas</td>\n",
       "      <td>2025-01-24</td>\n",
       "    </tr>\n",
       "    <tr>\n",
       "      <th>135</th>\n",
       "      <td>김치찌개,라면</td>\n",
       "      <td>nuni</td>\n",
       "      <td>2025-01-24</td>\n",
       "    </tr>\n",
       "    <tr>\n",
       "      <th>144</th>\n",
       "      <td>제육볶음</td>\n",
       "      <td>lucas</td>\n",
       "      <td>2025-02-03</td>\n",
       "    </tr>\n",
       "    <tr>\n",
       "      <th>145</th>\n",
       "      <td>제육볶음</td>\n",
       "      <td>nuni</td>\n",
       "      <td>2025-02-03</td>\n",
       "    </tr>\n",
       "  </tbody>\n",
       "</table>\n",
       "</div>"
      ],
      "text/plain": [
       "          menu_name    name          dt\n",
       "11              볶음밥   lucas  2025-01-07\n",
       "12         일반 짬뽕 보통    nuni  2025-01-07\n",
       "15              주먹밥   JERRY  2025-01-08\n",
       "21               규동   lucas  2025-01-08\n",
       "22         무공 옛날돈가스    nuni  2025-01-08\n",
       "24          얼큰 순대국밥    hyun  2025-01-09\n",
       "25          얼큰 순대국밥   JERRY  2025-01-09\n",
       "31            한우 곰탕   lucas  2025-01-09\n",
       "32           얼큰 설렁탕    nuni  2025-01-09\n",
       "35           불닭로제찜닭   JERRY  2025-01-10\n",
       "39             부대찌개  heejin  2025-01-10\n",
       "41             부대찌개   lucas  2025-01-10\n",
       "42             부대찌개    nuni  2025-01-10\n",
       "44               한솥    hyun  2025-01-13\n",
       "45               한솥   JERRY  2025-01-13\n",
       "50          꽃게 된장찌개   lucas  2025-01-13\n",
       "51      고기김치찌개,라면세트    nuni  2025-01-13\n",
       "59               한솥   lucas  2025-01-14\n",
       "60               한솥    nuni  2025-01-14\n",
       "68     생고기김치찌개,라면사리   lucas  2025-01-15\n",
       "69            순두부찌개    nuni  2025-01-15\n",
       "78   비빔국수 , 반 계란 김밥   lucas  2025-01-16\n",
       "79      반반국수(비빔&잔치)    nuni  2025-01-16\n",
       "87           안심 돈카츠   lucas  2025-01-17\n",
       "88        카레 돈카츠 세트    nuni  2025-01-17\n",
       "97            낙지 볶음   lucas  2025-01-20\n",
       "98             제육볶음    nuni  2025-01-20\n",
       "101      고등어구이,제육볶음   JERRY  2025-01-21\n",
       "102      고등어구이,제육볶음     SEO  2025-01-21\n",
       "105      얼큰미나리 샤브세트  heejin  2025-01-21\n",
       "107      얼큰미나리 샤브세트   lucas  2025-01-21\n",
       "115          햄 김치찌개   lucas  2025-01-22\n",
       "116          순두부 찌개    nuni  2025-01-22\n",
       "125           육회비빔밥   lucas  2025-01-23\n",
       "126           육회비빔밥    nuni  2025-01-23\n",
       "134          콩나물해장국   lucas  2025-01-24\n",
       "135         김치찌개,라면    nuni  2025-01-24\n",
       "144            제육볶음   lucas  2025-02-03\n",
       "145            제육볶음    nuni  2025-02-03"
      ]
     },
     "execution_count": 18,
     "metadata": {},
     "output_type": "execute_result"
    }
   ],
   "source": [
    "# 나의 df에 없는 row를 찾아서 새로운 df으로 만들기\n",
    "n_rows = []\n",
    "for _, row_h in df_jacob.iterrows():\n",
    "    is_match_row =False\n",
    "    for _, row_l in df_lucas.iterrows():\n",
    "        is_match_columns =True\n",
    "        for col in df_lucas.columns:\n",
    "            if row_h[col] != row_l[col]:\n",
    "                is_match_columns = False\n",
    "                break\n",
    "        if is_match_columns:\n",
    "           is_match_row = True\n",
    "\n",
    "    if is_match_row:\n",
    "        n_rows.append(row_h)\n",
    "df_news = pd.DataFrame(n_rows)\n",
    "df_news"
   ]
  },
  {
   "cell_type": "code",
   "execution_count": 41,
   "id": "d723befe-fd3a-4ff0-8905-7a1897471bad",
   "metadata": {},
   "outputs": [],
   "source": [
    "merge_df = pd.merge(df_jacob, df_lucas, how='right', indicator=True)"
   ]
  },
  {
   "cell_type": "code",
   "execution_count": 42,
   "id": "91ff3b7f-2b54-43be-a62e-790da0352869",
   "metadata": {},
   "outputs": [
    {
     "data": {
      "text/html": [
       "<div>\n",
       "<style scoped>\n",
       "    .dataframe tbody tr th:only-of-type {\n",
       "        vertical-align: middle;\n",
       "    }\n",
       "\n",
       "    .dataframe tbody tr th {\n",
       "        vertical-align: top;\n",
       "    }\n",
       "\n",
       "    .dataframe thead th {\n",
       "        text-align: right;\n",
       "    }\n",
       "</style>\n",
       "<table border=\"1\" class=\"dataframe\">\n",
       "  <thead>\n",
       "    <tr style=\"text-align: right;\">\n",
       "      <th></th>\n",
       "      <th>menu_name</th>\n",
       "      <th>name</th>\n",
       "      <th>dt</th>\n",
       "      <th>_merge</th>\n",
       "    </tr>\n",
       "  </thead>\n",
       "  <tbody>\n",
       "    <tr>\n",
       "      <th>0</th>\n",
       "      <td>순대국</td>\n",
       "      <td>lucas</td>\n",
       "      <td>2025-02-11</td>\n",
       "      <td>right_only</td>\n",
       "    </tr>\n",
       "    <tr>\n",
       "      <th>1</th>\n",
       "      <td>순대국</td>\n",
       "      <td>TOM</td>\n",
       "      <td>2025-01-07</td>\n",
       "      <td>right_only</td>\n",
       "    </tr>\n",
       "    <tr>\n",
       "      <th>2</th>\n",
       "      <td>닭개장</td>\n",
       "      <td>cho</td>\n",
       "      <td>2025-01-07</td>\n",
       "      <td>right_only</td>\n",
       "    </tr>\n",
       "    <tr>\n",
       "      <th>3</th>\n",
       "      <td>닭개장(특) , 꽈배기</td>\n",
       "      <td>hyun</td>\n",
       "      <td>2025-01-07</td>\n",
       "      <td>right_only</td>\n",
       "    </tr>\n",
       "    <tr>\n",
       "      <th>4</th>\n",
       "      <td>닭개장</td>\n",
       "      <td>JERRY</td>\n",
       "      <td>2025-01-07</td>\n",
       "      <td>right_only</td>\n",
       "    </tr>\n",
       "    <tr>\n",
       "      <th>...</th>\n",
       "      <td>...</td>\n",
       "      <td>...</td>\n",
       "      <td>...</td>\n",
       "      <td>...</td>\n",
       "    </tr>\n",
       "    <tr>\n",
       "      <th>139</th>\n",
       "      <td>잔치국수</td>\n",
       "      <td>jiwon</td>\n",
       "      <td>2025-02-03</td>\n",
       "      <td>right_only</td>\n",
       "    </tr>\n",
       "    <tr>\n",
       "      <th>140</th>\n",
       "      <td>김치 찌개</td>\n",
       "      <td>jacob</td>\n",
       "      <td>2025-02-03</td>\n",
       "      <td>right_only</td>\n",
       "    </tr>\n",
       "    <tr>\n",
       "      <th>141</th>\n",
       "      <td>샌드위치</td>\n",
       "      <td>heejin</td>\n",
       "      <td>2025-02-03</td>\n",
       "      <td>right_only</td>\n",
       "    </tr>\n",
       "    <tr>\n",
       "      <th>142</th>\n",
       "      <td>제육볶음</td>\n",
       "      <td>lucas</td>\n",
       "      <td>2025-02-03</td>\n",
       "      <td>both</td>\n",
       "    </tr>\n",
       "    <tr>\n",
       "      <th>143</th>\n",
       "      <td>제육볶음</td>\n",
       "      <td>nuni</td>\n",
       "      <td>2025-02-03</td>\n",
       "      <td>both</td>\n",
       "    </tr>\n",
       "  </tbody>\n",
       "</table>\n",
       "<p>144 rows × 4 columns</p>\n",
       "</div>"
      ],
      "text/plain": [
       "        menu_name    name          dt      _merge\n",
       "0             순대국   lucas  2025-02-11  right_only\n",
       "1             순대국     TOM  2025-01-07  right_only\n",
       "2             닭개장     cho  2025-01-07  right_only\n",
       "3    닭개장(특) , 꽈배기    hyun  2025-01-07  right_only\n",
       "4             닭개장   JERRY  2025-01-07  right_only\n",
       "..            ...     ...         ...         ...\n",
       "139          잔치국수   jiwon  2025-02-03  right_only\n",
       "140         김치 찌개   jacob  2025-02-03  right_only\n",
       "141          샌드위치  heejin  2025-02-03  right_only\n",
       "142          제육볶음   lucas  2025-02-03        both\n",
       "143          제육볶음    nuni  2025-02-03        both\n",
       "\n",
       "[144 rows x 4 columns]"
      ]
     },
     "execution_count": 42,
     "metadata": {},
     "output_type": "execute_result"
    }
   ],
   "source": [
    "merge_df"
   ]
  },
  {
   "cell_type": "code",
   "execution_count": 106,
   "id": "3923b07e-aa00-4aba-a777-f703284b43bb",
   "metadata": {},
   "outputs": [
    {
     "data": {
      "text/html": [
       "<div>\n",
       "<style scoped>\n",
       "    .dataframe tbody tr th:only-of-type {\n",
       "        vertical-align: middle;\n",
       "    }\n",
       "\n",
       "    .dataframe tbody tr th {\n",
       "        vertical-align: top;\n",
       "    }\n",
       "\n",
       "    .dataframe thead th {\n",
       "        text-align: right;\n",
       "    }\n",
       "</style>\n",
       "<table border=\"1\" class=\"dataframe\">\n",
       "  <thead>\n",
       "    <tr style=\"text-align: right;\">\n",
       "      <th></th>\n",
       "      <th>menu_name</th>\n",
       "      <th>name</th>\n",
       "      <th>dt</th>\n",
       "    </tr>\n",
       "  </thead>\n",
       "  <tbody>\n",
       "  </tbody>\n",
       "</table>\n",
       "</div>"
      ],
      "text/plain": [
       "Empty DataFrame\n",
       "Columns: [menu_name, name, dt]\n",
       "Index: []"
      ]
     },
     "execution_count": 106,
     "metadata": {},
     "output_type": "execute_result"
    }
   ],
   "source": [
    "# _merge == right only 인것만 남기고\n",
    "# _merge 컬럼은 지우고\n",
    "diff_df = merge_df[merge_df['_merge'] == 'right only'].drop('_merge', axis=1)\n",
    "diff_df"
   ]
  },
  {
   "cell_type": "code",
   "execution_count": 105,
   "id": "bb54c805-865a-4d47-8bf5-919609854c1e",
   "metadata": {},
   "outputs": [
    {
     "data": {
      "text/html": [
       "<div>\n",
       "<style scoped>\n",
       "    .dataframe tbody tr th:only-of-type {\n",
       "        vertical-align: middle;\n",
       "    }\n",
       "\n",
       "    .dataframe tbody tr th {\n",
       "        vertical-align: top;\n",
       "    }\n",
       "\n",
       "    .dataframe thead th {\n",
       "        text-align: right;\n",
       "    }\n",
       "</style>\n",
       "<table border=\"1\" class=\"dataframe\">\n",
       "  <thead>\n",
       "    <tr style=\"text-align: right;\">\n",
       "      <th></th>\n",
       "      <th>menu_name</th>\n",
       "      <th>name</th>\n",
       "    </tr>\n",
       "  </thead>\n",
       "  <tbody>\n",
       "    <tr>\n",
       "      <th>0</th>\n",
       "      <td>컵라면</td>\n",
       "      <td>TOM</td>\n",
       "    </tr>\n",
       "    <tr>\n",
       "      <th>1</th>\n",
       "      <td>이면수구이</td>\n",
       "      <td>cho</td>\n",
       "    </tr>\n",
       "    <tr>\n",
       "      <th>2</th>\n",
       "      <td>스파게티</td>\n",
       "      <td>lucas</td>\n",
       "    </tr>\n",
       "    <tr>\n",
       "      <th>3</th>\n",
       "      <td>순대국</td>\n",
       "      <td>cho</td>\n",
       "    </tr>\n",
       "    <tr>\n",
       "      <th>4</th>\n",
       "      <td>닭개장</td>\n",
       "      <td>hyun</td>\n",
       "    </tr>\n",
       "    <tr>\n",
       "      <th>...</th>\n",
       "      <td>...</td>\n",
       "      <td>...</td>\n",
       "    </tr>\n",
       "    <tr>\n",
       "      <th>100</th>\n",
       "      <td>모다기</td>\n",
       "      <td>SEO</td>\n",
       "    </tr>\n",
       "    <tr>\n",
       "      <th>101</th>\n",
       "      <td>닭죽</td>\n",
       "      <td>jiwon</td>\n",
       "    </tr>\n",
       "    <tr>\n",
       "      <th>102</th>\n",
       "      <td>잔치국수</td>\n",
       "      <td>jacob</td>\n",
       "    </tr>\n",
       "    <tr>\n",
       "      <th>103</th>\n",
       "      <td>김치 찌개</td>\n",
       "      <td>heejin</td>\n",
       "    </tr>\n",
       "    <tr>\n",
       "      <th>104</th>\n",
       "      <td>샌드위치</td>\n",
       "      <td>TOM</td>\n",
       "    </tr>\n",
       "  </tbody>\n",
       "</table>\n",
       "<p>105 rows × 2 columns</p>\n",
       "</div>"
      ],
      "text/plain": [
       "    menu_name    name\n",
       "0         컵라면     TOM\n",
       "1       이면수구이     cho\n",
       "2        스파게티   lucas\n",
       "3         순대국     cho\n",
       "4         닭개장    hyun\n",
       "..        ...     ...\n",
       "100       모다기     SEO\n",
       "101        닭죽   jiwon\n",
       "102      잔치국수   jacob\n",
       "103     김치 찌개  heejin\n",
       "104      샌드위치     TOM\n",
       "\n",
       "[105 rows x 2 columns]"
      ]
     },
     "execution_count": 105,
     "metadata": {},
     "output_type": "execute_result"
    }
   ],
   "source": [
    "from pandasql import sqldf\n",
    "query = \"\"\"\n",
    "SELECT df_jacob.menu_name, df_jacob.name\n",
    "FROM df_jacob\n",
    "LEFT JOIN df_lucas\n",
    "ON df_jacob.menu_name = df_lucas.menu_name AND df_jacob.name = df_lucas.name \n",
    "WHERE df_lucas.menu_name IS NULL\n",
    "\"\"\"\n",
    "\n",
    "pysqldf2 = lambda q: sqldf(q,globals())\n",
    "\n",
    "def pysqldf(q):\n",
    "    sqldf(q,locals())\n",
    "\n",
    "df_diff_a = sqldf(query, locals())\n",
    "df_diff_a"
   ]
  },
  {
   "cell_type": "code",
   "execution_count": null,
   "id": "bec174de-db7e-4713-9d72-029ec5eb395f",
   "metadata": {},
   "outputs": [],
   "source": []
  },
  {
   "cell_type": "code",
   "execution_count": 76,
   "id": "da9d9486-fcbc-400c-be11-44cccd09def4",
   "metadata": {},
   "outputs": [],
   "source": [
    "import pandas as pd\n",
    "\n",
    "df1 = pd.DataFrame({\"id\": [1, 2, 3], \"name\": [\"KIM\", \"MIN\", \"LEE\"]})\n",
    "df2 = pd.DataFrame({\"id\": [2, 3, 4, 5], \"name\": [\"MIN\", \"LEE\", \"PARK\", \"TOM\"]})\n",
    "df3 = pd.DataFrame({\"id\": [5, 4, 2, 3], \"name\": [\"TOM\", \"PARK\",\"MIN\", \"LEE\"]})"
   ]
  },
  {
   "cell_type": "code",
   "execution_count": 78,
   "id": "d1c856a7-4a59-41fd-a684-ea03b27b90c7",
   "metadata": {},
   "outputs": [
    {
     "data": {
      "text/html": [
       "<div>\n",
       "<style scoped>\n",
       "    .dataframe tbody tr th:only-of-type {\n",
       "        vertical-align: middle;\n",
       "    }\n",
       "\n",
       "    .dataframe tbody tr th {\n",
       "        vertical-align: top;\n",
       "    }\n",
       "\n",
       "    .dataframe thead th {\n",
       "        text-align: right;\n",
       "    }\n",
       "</style>\n",
       "<table border=\"1\" class=\"dataframe\">\n",
       "  <thead>\n",
       "    <tr style=\"text-align: right;\">\n",
       "      <th></th>\n",
       "      <th>id</th>\n",
       "      <th>name</th>\n",
       "    </tr>\n",
       "  </thead>\n",
       "  <tbody>\n",
       "    <tr>\n",
       "      <th>2</th>\n",
       "      <td>4</td>\n",
       "      <td>PARK</td>\n",
       "    </tr>\n",
       "    <tr>\n",
       "      <th>3</th>\n",
       "      <td>5</td>\n",
       "      <td>TOM</td>\n",
       "    </tr>\n",
       "  </tbody>\n",
       "</table>\n",
       "</div>"
      ],
      "text/plain": [
       "   id  name\n",
       "2   4  PARK\n",
       "3   5   TOM"
      ]
     },
     "execution_count": 78,
     "metadata": {},
     "output_type": "execute_result"
    }
   ],
   "source": [
    "new_rows = []\n",
    "\n",
    "for _, row_2 in df2.iterrows():\n",
    "    is_match_row = False\n",
    "    for _, row_1 in df1.iterrows():\n",
    "        is_match_columns = True\n",
    "        for c_name in df1.columns:\n",
    "            if row_2[c_name] != row_1[c_name]:\n",
    "                is_match_columns = False\n",
    "                break\n",
    "                \n",
    "        if is_match_columns:\n",
    "            is_match_row = True\n",
    "\n",
    "    if not is_match_row:\n",
    "        new_rows.append(row_2)\n",
    "        \n",
    "df_diff_2 = pd.DataFrame(new_rows)\n",
    "df_diff_2"
   ]
  },
  {
   "cell_type": "code",
   "execution_count": 79,
   "id": "bd5e8437-c295-4a6c-926d-49a1f592d9a2",
   "metadata": {},
   "outputs": [],
   "source": [
    "merge_df_2 = pd.merge(df1, df3, how=\"right\", indicator=True)"
   ]
  },
  {
   "cell_type": "code",
   "execution_count": 80,
   "id": "f1cb1f30-44d2-4db8-905c-ef764f5eeb08",
   "metadata": {},
   "outputs": [
    {
     "data": {
      "text/html": [
       "<div>\n",
       "<style scoped>\n",
       "    .dataframe tbody tr th:only-of-type {\n",
       "        vertical-align: middle;\n",
       "    }\n",
       "\n",
       "    .dataframe tbody tr th {\n",
       "        vertical-align: top;\n",
       "    }\n",
       "\n",
       "    .dataframe thead th {\n",
       "        text-align: right;\n",
       "    }\n",
       "</style>\n",
       "<table border=\"1\" class=\"dataframe\">\n",
       "  <thead>\n",
       "    <tr style=\"text-align: right;\">\n",
       "      <th></th>\n",
       "      <th>id</th>\n",
       "      <th>name</th>\n",
       "    </tr>\n",
       "  </thead>\n",
       "  <tbody>\n",
       "    <tr>\n",
       "      <th>0</th>\n",
       "      <td>5</td>\n",
       "      <td>TOM</td>\n",
       "    </tr>\n",
       "    <tr>\n",
       "      <th>1</th>\n",
       "      <td>4</td>\n",
       "      <td>PARK</td>\n",
       "    </tr>\n",
       "  </tbody>\n",
       "</table>\n",
       "</div>"
      ],
      "text/plain": [
       "   id  name\n",
       "0   5   TOM\n",
       "1   4  PARK"
      ]
     },
     "execution_count": 80,
     "metadata": {},
     "output_type": "execute_result"
    }
   ],
   "source": [
    "df_diff_3 = merge_df_2[merge_df_2['_merge'] == 'right_only'].drop('_merge', axis=1)\n",
    "df_diff_3"
   ]
  },
  {
   "cell_type": "code",
   "execution_count": 81,
   "id": "ac96d76b-0e01-4c08-8021-17ffa3114660",
   "metadata": {},
   "outputs": [
    {
     "data": {
      "text/html": [
       "<div>\n",
       "<style scoped>\n",
       "    .dataframe tbody tr th:only-of-type {\n",
       "        vertical-align: middle;\n",
       "    }\n",
       "\n",
       "    .dataframe tbody tr th {\n",
       "        vertical-align: top;\n",
       "    }\n",
       "\n",
       "    .dataframe thead th {\n",
       "        text-align: right;\n",
       "    }\n",
       "</style>\n",
       "<table border=\"1\" class=\"dataframe\">\n",
       "  <thead>\n",
       "    <tr style=\"text-align: right;\">\n",
       "      <th></th>\n",
       "      <th>id</th>\n",
       "      <th>name</th>\n",
       "    </tr>\n",
       "  </thead>\n",
       "  <tbody>\n",
       "    <tr>\n",
       "      <th>0</th>\n",
       "      <td>1</td>\n",
       "      <td>KIM</td>\n",
       "    </tr>\n",
       "    <tr>\n",
       "      <th>1</th>\n",
       "      <td>2</td>\n",
       "      <td>MIN</td>\n",
       "    </tr>\n",
       "    <tr>\n",
       "      <th>2</th>\n",
       "      <td>3</td>\n",
       "      <td>LEE</td>\n",
       "    </tr>\n",
       "    <tr>\n",
       "      <th>3</th>\n",
       "      <td>4</td>\n",
       "      <td>PARK</td>\n",
       "    </tr>\n",
       "    <tr>\n",
       "      <th>4</th>\n",
       "      <td>5</td>\n",
       "      <td>TOM</td>\n",
       "    </tr>\n",
       "  </tbody>\n",
       "</table>\n",
       "</div>"
      ],
      "text/plain": [
       "   id  name\n",
       "0   1   KIM\n",
       "1   2   MIN\n",
       "2   3   LEE\n",
       "3   4  PARK\n",
       "4   5   TOM"
      ]
     },
     "execution_count": 81,
     "metadata": {},
     "output_type": "execute_result"
    }
   ],
   "source": [
    "pd.merge(df1, df3, how=\"outer\", indicator=False)"
   ]
  },
  {
   "cell_type": "code",
   "execution_count": 82,
   "id": "1d0f5999-cdca-4bdb-9e41-a862fe9835ad",
   "metadata": {},
   "outputs": [
    {
     "data": {
      "text/html": [
       "<div>\n",
       "<style scoped>\n",
       "    .dataframe tbody tr th:only-of-type {\n",
       "        vertical-align: middle;\n",
       "    }\n",
       "\n",
       "    .dataframe tbody tr th {\n",
       "        vertical-align: top;\n",
       "    }\n",
       "\n",
       "    .dataframe thead th {\n",
       "        text-align: right;\n",
       "    }\n",
       "</style>\n",
       "<table border=\"1\" class=\"dataframe\">\n",
       "  <thead>\n",
       "    <tr style=\"text-align: right;\">\n",
       "      <th></th>\n",
       "      <th>id</th>\n",
       "      <th>name</th>\n",
       "    </tr>\n",
       "  </thead>\n",
       "  <tbody>\n",
       "    <tr>\n",
       "      <th>0</th>\n",
       "      <td>4</td>\n",
       "      <td>PARK</td>\n",
       "    </tr>\n",
       "    <tr>\n",
       "      <th>1</th>\n",
       "      <td>5</td>\n",
       "      <td>TOM</td>\n",
       "    </tr>\n",
       "  </tbody>\n",
       "</table>\n",
       "</div>"
      ],
      "text/plain": [
       "   id  name\n",
       "0   4  PARK\n",
       "1   5   TOM"
      ]
     },
     "execution_count": 82,
     "metadata": {},
     "output_type": "execute_result"
    }
   ],
   "source": [
    "from pandasql import sqldf\n",
    "query = \"\"\"\n",
    "SELECT df2.id, df2.name\n",
    "FROM df2\n",
    "LEFT JOIN df1\n",
    "ON df2.id = df1.id AND df2.name = df1.name \n",
    "WHERE df1.id IS NULL\n",
    "\"\"\"\n",
    "\n",
    "pysqldf2 = lambda q: sqldf(q,globals())\n",
    "\n",
    "def pysqldf(q):\n",
    "    sqldf(q,locals())\n",
    "\n",
    "df_diff_1 = sqldf(query, locals())\n",
    "df_diff_1"
   ]
  },
  {
   "cell_type": "code",
   "execution_count": 66,
   "id": "0982afcd-7b4d-4fbe-a4ff-a185c24fe9aa",
   "metadata": {},
   "outputs": [
    {
     "data": {
      "text/plain": [
       "False"
      ]
     },
     "execution_count": 66,
     "metadata": {},
     "output_type": "execute_result"
    }
   ],
   "source": [
    "## TODo\n",
    "# df_diff_1, df_diff_2, df_diff_3 의 결과가 같은지 비교\n",
    "df_diff_1.equals(df_diff_2)"
   ]
  },
  {
   "cell_type": "code",
   "execution_count": 67,
   "id": "4aa3dbe2-69b2-4f9d-96e2-7105508125fd",
   "metadata": {},
   "outputs": [
    {
     "data": {
      "text/plain": [
       "True"
      ]
     },
     "execution_count": 67,
     "metadata": {},
     "output_type": "execute_result"
    }
   ],
   "source": [
    "df_diff_1.reset_index(drop=True).equals(df_diff_2.reset_index(drop=True))"
   ]
  },
  {
   "cell_type": "code",
   "execution_count": 83,
   "id": "1439e103-c744-4204-bec6-f62be1b50cbf",
   "metadata": {},
   "outputs": [
    {
     "data": {
      "text/plain": [
       "False"
      ]
     },
     "execution_count": 83,
     "metadata": {},
     "output_type": "execute_result"
    }
   ],
   "source": [
    "df_diff_1.reset_index(drop=True).equals(df_diff_3.reset_index(drop=True))"
   ]
  },
  {
   "cell_type": "code",
   "execution_count": 84,
   "id": "6f0ac936-0f86-4cd6-8c88-4a49358f79ff",
   "metadata": {},
   "outputs": [
    {
     "data": {
      "text/html": [
       "<div>\n",
       "<style scoped>\n",
       "    .dataframe tbody tr th:only-of-type {\n",
       "        vertical-align: middle;\n",
       "    }\n",
       "\n",
       "    .dataframe tbody tr th {\n",
       "        vertical-align: top;\n",
       "    }\n",
       "\n",
       "    .dataframe thead th {\n",
       "        text-align: right;\n",
       "    }\n",
       "</style>\n",
       "<table border=\"1\" class=\"dataframe\">\n",
       "  <thead>\n",
       "    <tr style=\"text-align: right;\">\n",
       "      <th></th>\n",
       "      <th>id</th>\n",
       "      <th>name</th>\n",
       "    </tr>\n",
       "  </thead>\n",
       "  <tbody>\n",
       "    <tr>\n",
       "      <th>0</th>\n",
       "      <td>4</td>\n",
       "      <td>PARK</td>\n",
       "    </tr>\n",
       "    <tr>\n",
       "      <th>1</th>\n",
       "      <td>5</td>\n",
       "      <td>TOM</td>\n",
       "    </tr>\n",
       "  </tbody>\n",
       "</table>\n",
       "</div>"
      ],
      "text/plain": [
       "   id  name\n",
       "0   4  PARK\n",
       "1   5   TOM"
      ]
     },
     "execution_count": 84,
     "metadata": {},
     "output_type": "execute_result"
    }
   ],
   "source": [
    "df_diff_1.reset_index(drop=True)"
   ]
  },
  {
   "cell_type": "code",
   "execution_count": 85,
   "id": "8f781a3d-f2a3-429e-8e28-a3af512988d2",
   "metadata": {},
   "outputs": [
    {
     "data": {
      "text/html": [
       "<div>\n",
       "<style scoped>\n",
       "    .dataframe tbody tr th:only-of-type {\n",
       "        vertical-align: middle;\n",
       "    }\n",
       "\n",
       "    .dataframe tbody tr th {\n",
       "        vertical-align: top;\n",
       "    }\n",
       "\n",
       "    .dataframe thead th {\n",
       "        text-align: right;\n",
       "    }\n",
       "</style>\n",
       "<table border=\"1\" class=\"dataframe\">\n",
       "  <thead>\n",
       "    <tr style=\"text-align: right;\">\n",
       "      <th></th>\n",
       "      <th>id</th>\n",
       "      <th>name</th>\n",
       "    </tr>\n",
       "  </thead>\n",
       "  <tbody>\n",
       "    <tr>\n",
       "      <th>0</th>\n",
       "      <td>5</td>\n",
       "      <td>TOM</td>\n",
       "    </tr>\n",
       "    <tr>\n",
       "      <th>1</th>\n",
       "      <td>4</td>\n",
       "      <td>PARK</td>\n",
       "    </tr>\n",
       "  </tbody>\n",
       "</table>\n",
       "</div>"
      ],
      "text/plain": [
       "   id  name\n",
       "0   5   TOM\n",
       "1   4  PARK"
      ]
     },
     "execution_count": 85,
     "metadata": {},
     "output_type": "execute_result"
    }
   ],
   "source": [
    "df_diff_3.reset_index(drop=True)"
   ]
  },
  {
   "cell_type": "code",
   "execution_count": 86,
   "id": "ec150d1f-7544-42cc-83f8-86287b14dd2d",
   "metadata": {},
   "outputs": [
    {
     "data": {
      "text/html": [
       "<div>\n",
       "<style scoped>\n",
       "    .dataframe tbody tr th:only-of-type {\n",
       "        vertical-align: middle;\n",
       "    }\n",
       "\n",
       "    .dataframe tbody tr th {\n",
       "        vertical-align: top;\n",
       "    }\n",
       "\n",
       "    .dataframe thead th {\n",
       "        text-align: right;\n",
       "    }\n",
       "</style>\n",
       "<table border=\"1\" class=\"dataframe\">\n",
       "  <thead>\n",
       "    <tr style=\"text-align: right;\">\n",
       "      <th></th>\n",
       "      <th>id</th>\n",
       "      <th>name</th>\n",
       "    </tr>\n",
       "  </thead>\n",
       "  <tbody>\n",
       "    <tr>\n",
       "      <th>0</th>\n",
       "      <td>4</td>\n",
       "      <td>PARK</td>\n",
       "    </tr>\n",
       "    <tr>\n",
       "      <th>1</th>\n",
       "      <td>5</td>\n",
       "      <td>TOM</td>\n",
       "    </tr>\n",
       "  </tbody>\n",
       "</table>\n",
       "</div>"
      ],
      "text/plain": [
       "   id  name\n",
       "0   4  PARK\n",
       "1   5   TOM"
      ]
     },
     "execution_count": 86,
     "metadata": {},
     "output_type": "execute_result"
    }
   ],
   "source": [
    "df_diff_3.sort_values(by=['id','name']).reset_index(drop=True)"
   ]
  },
  {
   "cell_type": "code",
   "execution_count": 87,
   "id": "c207bf15-0697-4bee-8bad-10cdbf65b572",
   "metadata": {},
   "outputs": [
    {
     "data": {
      "text/html": [
       "<div>\n",
       "<style scoped>\n",
       "    .dataframe tbody tr th:only-of-type {\n",
       "        vertical-align: middle;\n",
       "    }\n",
       "\n",
       "    .dataframe tbody tr th {\n",
       "        vertical-align: top;\n",
       "    }\n",
       "\n",
       "    .dataframe thead th {\n",
       "        text-align: right;\n",
       "    }\n",
       "</style>\n",
       "<table border=\"1\" class=\"dataframe\">\n",
       "  <thead>\n",
       "    <tr style=\"text-align: right;\">\n",
       "      <th></th>\n",
       "      <th>id</th>\n",
       "      <th>name</th>\n",
       "    </tr>\n",
       "  </thead>\n",
       "  <tbody>\n",
       "    <tr>\n",
       "      <th>0</th>\n",
       "      <td>4</td>\n",
       "      <td>PARK</td>\n",
       "    </tr>\n",
       "    <tr>\n",
       "      <th>1</th>\n",
       "      <td>5</td>\n",
       "      <td>TOM</td>\n",
       "    </tr>\n",
       "  </tbody>\n",
       "</table>\n",
       "</div>"
      ],
      "text/plain": [
       "   id  name\n",
       "0   4  PARK\n",
       "1   5   TOM"
      ]
     },
     "execution_count": 87,
     "metadata": {},
     "output_type": "execute_result"
    }
   ],
   "source": [
    "df_diff_1.sort_values(by=['id','name']).reset_index(drop=True)"
   ]
  },
  {
   "cell_type": "code",
   "execution_count": 90,
   "id": "06aba1c5-21ed-4568-99a8-97ff60a72dca",
   "metadata": {},
   "outputs": [
    {
     "data": {
      "text/plain": [
       "['id', 'name']"
      ]
     },
     "execution_count": 90,
     "metadata": {},
     "output_type": "execute_result"
    }
   ],
   "source": [
    "df_diff_3.columns.tolist()"
   ]
  },
  {
   "cell_type": "code",
   "execution_count": 91,
   "id": "f80ec849-8d16-4a81-bbeb-acb579d034db",
   "metadata": {},
   "outputs": [
    {
     "data": {
      "text/plain": [
       "True"
      ]
     },
     "execution_count": 91,
     "metadata": {},
     "output_type": "execute_result"
    }
   ],
   "source": [
    "d3 = df_diff_3.sort_values(by=['id','name']).reset_index(drop=True)\n",
    "d1 = df_diff_1.sort_values(by=['id','name']).reset_index(drop=True)\n",
    "d3.equals(d1)"
   ]
  },
  {
   "cell_type": "code",
   "execution_count": null,
   "id": "c8cb941b-01f4-481b-bf31-7255f3ffd3b0",
   "metadata": {},
   "outputs": [],
   "source": []
  }
 ],
 "metadata": {
  "kernelspec": {
   "display_name": "Python 3 (ipykernel)",
   "language": "python",
   "name": "python3"
  },
  "language_info": {
   "codemirror_mode": {
    "name": "ipython",
    "version": 3
   },
   "file_extension": ".py",
   "mimetype": "text/x-python",
   "name": "python",
   "nbconvert_exporter": "python",
   "pygments_lexer": "ipython3",
   "version": "3.10.12"
  }
 },
 "nbformat": 4,
 "nbformat_minor": 5
}

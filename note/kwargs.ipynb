{
 "cells": [
  {
   "cell_type": "code",
   "execution_count": 16,
   "id": "5f05e779-d90e-4b1c-a604-5b53364f860b",
   "metadata": {},
   "outputs": [],
   "source": [
    "def fun_args(*args):\n",
    "    print(f\"args...{type(args)}\")\n",
    "    for a in args:\n",
    "        print(a)"
   ]
  },
  {
   "cell_type": "code",
   "execution_count": 17,
   "id": "d8cef9fc-616d-42fc-a150-07bf7a42f399",
   "metadata": {},
   "outputs": [
    {
     "name": "stdout",
     "output_type": "stream",
     "text": [
      "args...<class 'tuple'>\n",
      "1\n",
      "2\n",
      "3\n"
     ]
    }
   ],
   "source": [
    "fun_args(1,2,3)"
   ]
  },
  {
   "cell_type": "code",
   "execution_count": 33,
   "id": "b6d2adeb-7156-4aa6-9590-da45adb954a7",
   "metadata": {},
   "outputs": [],
   "source": [
    "def fun_kwargs(**kwargs):\n",
    "    print(f\"kwargs...{type(kwargs)}\")\n",
    "    for k, v in kwargs.items():\n",
    "        print(f\"key:{k} , value:{v} \")"
   ]
  },
  {
   "cell_type": "code",
   "execution_count": 34,
   "id": "c30c3e3e-fe30-48c8-bc28-57b6e5543a8e",
   "metadata": {},
   "outputs": [
    {
     "name": "stdout",
     "output_type": "stream",
     "text": [
      "kwargs...<class 'dict'>\n"
     ]
    }
   ],
   "source": [
    "fun_kwargs()"
   ]
  },
  {
   "cell_type": "code",
   "execution_count": 35,
   "id": "93d98b76-a95a-4b89-9ed3-bc21cec0c329",
   "metadata": {},
   "outputs": [
    {
     "name": "stdout",
     "output_type": "stream",
     "text": [
      "kwargs...<class 'dict'>\n",
      "key:dbname , value:sunsindb \n",
      "key:user , value:sunsin \n",
      "key:abc , value:aaa \n"
     ]
    }
   ],
   "source": [
    "fun_kwargs(dbname = \"sunsindb\", user = \"sunsin\", abc=\"aaa\")"
   ]
  },
  {
   "cell_type": "code",
   "execution_count": 27,
   "id": "736de7a4-e2d6-483e-af33-bba6b1fb44aa",
   "metadata": {},
   "outputs": [],
   "source": [
    "# 예시\n",
    "a = {'name': 'pey', 'phone': '010-9999-1234', 'birth': '1118'}"
   ]
  },
  {
   "cell_type": "code",
   "execution_count": 30,
   "id": "fedf78f3-4121-4965-bbb6-063916fc7ff2",
   "metadata": {},
   "outputs": [
    {
     "data": {
      "text/plain": [
       "dict_values(['pey', '010-9999-1234', '1118'])"
      ]
     },
     "execution_count": 30,
     "metadata": {},
     "output_type": "execute_result"
    }
   ],
   "source": [
    "a.values()"
   ]
  },
  {
   "cell_type": "code",
   "execution_count": 31,
   "id": "93a50bfc-0cb9-4e05-b8f9-1d170cd01053",
   "metadata": {},
   "outputs": [
    {
     "data": {
      "text/plain": [
       "dict_keys(['name', 'phone', 'birth'])"
      ]
     },
     "execution_count": 31,
     "metadata": {},
     "output_type": "execute_result"
    }
   ],
   "source": [
    "a.keys()"
   ]
  },
  {
   "cell_type": "code",
   "execution_count": 32,
   "id": "0922d279-14b2-4e83-92db-7ea612d0f284",
   "metadata": {},
   "outputs": [
    {
     "data": {
      "text/plain": [
       "dict_items([('name', 'pey'), ('phone', '010-9999-1234'), ('birth', '1118')])"
      ]
     },
     "execution_count": 32,
     "metadata": {},
     "output_type": "execute_result"
    }
   ],
   "source": [
    "a.items()"
   ]
  },
  {
   "cell_type": "code",
   "execution_count": 36,
   "id": "8b4299ac-001b-47a8-a75a-f5d30c1ac9ac",
   "metadata": {},
   "outputs": [],
   "source": [
    "DB_CONFIG = {\n",
    "    \"dbname\": \"sunsindb\",\n",
    "    \"user\": \"sunsin\",\n",
    "    \"password\": \"mysecretpassword\",\n",
    "    \"host\": \"localhost\",\n",
    "    \"port\": \"5432\",\n",
    "}"
   ]
  },
  {
   "cell_type": "code",
   "execution_count": 37,
   "id": "510b9ddb-d0b3-4961-9816-87f080ce3bc5",
   "metadata": {},
   "outputs": [
    {
     "name": "stdout",
     "output_type": "stream",
     "text": [
      "kwargs...<class 'dict'>\n",
      "key:dbname , value:sunsindb \n",
      "key:user , value:sunsin \n",
      "key:password , value:mysecretpassword \n",
      "key:host , value:localhost \n",
      "key:port , value:5432 \n"
     ]
    }
   ],
   "source": [
    "fun_kwargs(**DB_CONFIG)"
   ]
  },
  {
   "cell_type": "code",
   "execution_count": 40,
   "id": "fbf8b3f8-02b9-4cb4-baa2-37301a7f159f",
   "metadata": {},
   "outputs": [],
   "source": [
    "def fun_jjamppong(name, *args, **kwargs):\n",
    "    print(f\"jjamppong...{type(name)}, {type(args)}, {type(kwargs)}fu\")"
   ]
  },
  {
   "cell_type": "code",
   "execution_count": 41,
   "id": "b7c743e9-9100-4247-b423-2839d0c9684b",
   "metadata": {},
   "outputs": [
    {
     "name": "stdout",
     "output_type": "stream",
     "text": [
      "jjamppong...<class 'int'>, <class 'tuple'>, <class 'dict'>\n"
     ]
    }
   ],
   "source": [
    "fun_jjamppong(1, \"A\",\"B\", menu=\"a\", food=\"b\")"
   ]
  },
  {
   "cell_type": "code",
   "execution_count": 42,
   "id": "bcf7de70-8c1d-467f-be3c-456491091943",
   "metadata": {},
   "outputs": [],
   "source": [
    "def fun_g(name, age=11):\n",
    "    print(name)\n",
    "    print(age)"
   ]
  },
  {
   "cell_type": "code",
   "execution_count": 43,
   "id": "614ccec8-1d48-4b57-b4ce-791e1a604f87",
   "metadata": {},
   "outputs": [
    {
     "name": "stdout",
     "output_type": "stream",
     "text": [
      "kim\n",
      "11\n"
     ]
    }
   ],
   "source": [
    "fun_g('kim',11)"
   ]
  },
  {
   "cell_type": "code",
   "execution_count": 44,
   "id": "982d8896-5df3-49f8-8a18-4eabf6879375",
   "metadata": {},
   "outputs": [
    {
     "name": "stdout",
     "output_type": "stream",
     "text": [
      "kim\n",
      "11\n"
     ]
    }
   ],
   "source": [
    "fun_g(age=11, name='kim')"
   ]
  },
  {
   "cell_type": "code",
   "execution_count": 45,
   "id": "fa6f3696-371d-49f9-a3cd-aef10469d3f1",
   "metadata": {},
   "outputs": [
    {
     "name": "stdout",
     "output_type": "stream",
     "text": [
      "kim\n",
      "11\n"
     ]
    }
   ],
   "source": [
    "fun_g(name='kim')"
   ]
  },
  {
   "cell_type": "code",
   "execution_count": null,
   "id": "40fadb31-c4e6-452a-b20e-dfcff15a8245",
   "metadata": {},
   "outputs": [],
   "source": []
  }
 ],
 "metadata": {
  "kernelspec": {
   "display_name": "Python 3 (ipykernel)",
   "language": "python",
   "name": "python3"
  },
  "language_info": {
   "codemirror_mode": {
    "name": "ipython",
    "version": 3
   },
   "file_extension": ".py",
   "mimetype": "text/x-python",
   "name": "python",
   "nbconvert_exporter": "python",
   "pygments_lexer": "ipython3",
   "version": "3.10.12"
  }
 },
 "nbformat": 4,
 "nbformat_minor": 5
}
